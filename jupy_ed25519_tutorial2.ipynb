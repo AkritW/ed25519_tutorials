{
 "cells": [
  {
   "cell_type": "markdown",
   "id": "eeffeb8d-e77f-4ae5-bb88-42e7501dcaac",
   "metadata": {},
   "source": [
    "# Elliptic curve cryptography (ed25519) Python3 beginner tutorial (part 2)"
   ]
  },
  {
   "cell_type": "markdown",
   "id": "3fb77f6e-12f0-4fe5-90f5-e649571e0730",
   "metadata": {},
   "source": [
    "<center> <img src=\"jupy_images/elliptic_curve_pic.png\" width=\"500\" height=\"500\"> </center>"
   ]
  },
  {
   "cell_type": "code",
   "execution_count": null,
   "id": "f66a5475-248d-4b02-b1ce-4d071f74e618",
   "metadata": {},
   "outputs": [],
   "source": [
    "from dumb25519 import Scalar, ScalarVector, Point, PointVector\n",
    "import dumb25519"
   ]
  },
  {
   "cell_type": "markdown",
   "id": "67b64d54-8803-4950-92bc-80e60a7d8c60",
   "metadata": {},
   "source": [
    "This is about vectors of scalars (ScalarVector) and of points (PointVector). <br>\n",
    "We can think of a vector as an array of data."
   ]
  },
  {
   "cell_type": "markdown",
   "id": "ffdd2736-23dd-4bed-acc4-6b0b55815d84",
   "metadata": {},
   "source": [
    "# <br><br><br><br> <center> ScalarVector <center>"
   ]
  },
  {
   "cell_type": "markdown",
   "id": "eadc9807-2b78-4cb9-b903-10674316f9fc",
   "metadata": {},
   "source": [
    "<br><p style=\"font-size: 24px\"> ScalarVector initialize </p>"
   ]
  },
  {
   "cell_type": "code",
   "execution_count": null,
   "id": "74165d0d-24d4-419e-a604-569e41af013d",
   "metadata": {},
   "outputs": [],
   "source": [
    "pre_x1 = [Scalar(1), Scalar(2), Scalar(3)]\n",
    "x1 = ScalarVector(pre_x1)\n",
    "pre_x2 = [Scalar(4), Scalar(5), Scalar(6)]\n",
    "x2 = ScalarVector(pre_x2)\n",
    "\n",
    "print(\"x1:\", str(x1))\n",
    "print(\"x2:\", str(x2))"
   ]
  },
  {
   "cell_type": "markdown",
   "id": "1c385974-6c5e-4bc6-8b26-63dd74271061",
   "metadata": {},
   "source": [
    "<br><p style=\"font-size: 24px\"> Array operations </p>"
   ]
  },
  {
   "cell_type": "code",
   "execution_count": null,
   "id": "c44ffcdc-8bd0-40a0-83f1-e815cc998ae8",
   "metadata": {},
   "outputs": [],
   "source": [
    "print(\"Slice:\", x1[:2])\n",
    "print(\"\\nLength:\", len(x1))\n",
    "x3 = x1[:]\n",
    "x3.extend(x2)\n",
    "print(\"\\nExtend:\", x3)"
   ]
  },
  {
   "cell_type": "markdown",
   "id": "2f3c19a6-fd55-4b10-abeb-c849636dbedd",
   "metadata": {},
   "source": [
    "<br><p style=\"font-size: 24px\"> Dot product: sum([x1[i] * x2[i] for i in range(len(x1))]) </p>"
   ]
  },
  {
   "cell_type": "code",
   "execution_count": null,
   "id": "4c24bda8-a349-4bcf-9799-5aeedd84ad09",
   "metadata": {},
   "outputs": [],
   "source": [
    "print(\"Dot product:\", x1 ** x2)"
   ]
  },
  {
   "cell_type": "markdown",
   "id": "d76660c3-c0b1-42e0-903e-60c00b8f9f29",
   "metadata": {},
   "source": [
    "<br> <p style=\"font-size: 18px\"> Note: the \"standard\" str output of Scalar and Point is in Hex.\n",
    "<br>Please read dumb25519.py code for better understanding of ScalarVector.<br> </p>"
   ]
  },
  {
   "cell_type": "markdown",
   "id": "845cb745-ce1f-4f5d-9d11-57a96503aa64",
   "metadata": {},
   "source": [
    "# <br><br><br><br> <center> PointVector <center>"
   ]
  },
  {
   "cell_type": "markdown",
   "id": "8998f00e-7a84-4191-8617-f65ea5deec3f",
   "metadata": {},
   "source": [
    "<br> <p style=\"font-size: 24px\"> PointVector initialize </p>"
   ]
  },
  {
   "cell_type": "code",
   "execution_count": null,
   "id": "69f98e51-d3f9-4402-85d5-f7f76563ce54",
   "metadata": {},
   "outputs": [],
   "source": [
    "pre_y1 = [dumb25519.G * Scalar(1), dumb25519.G * Scalar(2), dumb25519.G * Scalar(3)]\n",
    "y1 = PointVector(pre_y1)\n",
    "pre_y2 = [dumb25519.G * Scalar(4), dumb25519.G * Scalar(5), dumb25519.G * Scalar(6)]\n",
    "y2 = PointVector(pre_y2)\n",
    "\n",
    "print(\"y1\", str(y1))\n",
    "print(\"y2\", str(y2))"
   ]
  },
  {
   "cell_type": "markdown",
   "id": "8092072f-01ed-4944-a762-3af4b11a6d0e",
   "metadata": {},
   "source": [
    "<br><p style=\"font-size: 24px\"> Element-wise operations </p>"
   ]
  },
  {
   "cell_type": "code",
   "execution_count": null,
   "id": "0a804ad4-7cd7-45b2-a2f3-2811c08c820e",
   "metadata": {},
   "outputs": [],
   "source": [
    "print(\"Addition:\", y1 + y2)\n",
    "print(\"\\nSubtraction:\", y1 - y2)\n",
    "print(\"\\nScalar Multiplication:\", Scalar(2) * y1)"
   ]
  },
  {
   "cell_type": "markdown",
   "id": "8a9306dc-7222-4a4e-926e-99f6105da130",
   "metadata": {},
   "source": [
    "<br> <p style=\"font-size: 24px\"> Array operations </p>"
   ]
  },
  {
   "cell_type": "code",
   "execution_count": null,
   "id": "a7732236-dd6c-4d02-a684-ad6d84ae1e45",
   "metadata": {},
   "outputs": [],
   "source": [
    "y3 = y1[:]\n",
    "y3.extend(y2)\n",
    "\n",
    "print(\"\\nSlice:\", y1[:2])\n",
    "print(\"\\nLength:\", len(y1))\n",
    "print(\"\\nExtend:\", y3)"
   ]
  },
  {
   "cell_type": "markdown",
   "id": "6e9249b6-4bd8-4186-9ba3-89c871e438a4",
   "metadata": {},
   "source": [
    "<br> <p style=\"font-size: 24px\"> Multiscalar multiplication: sum([x1[i] * y2[i] for i in range(len(x1))])\n",
    "<br>This is like the dot product above, except that this is multiplication between ScalarVector and PointVector </p>"
   ]
  },
  {
   "cell_type": "code",
   "execution_count": null,
   "id": "40bda205-5a6d-41f4-a7ed-05627539cd13",
   "metadata": {},
   "outputs": [],
   "source": [
    "print(\"\\nExpected Multiscalar Mult:\", (x1 ** x2) * dumb25519.G)\n",
    "print(\"  Actual Multiscalar Mult:\", x1 ** y2)\n",
    "print(\"The two are equal right?\")"
   ]
  },
  {
   "cell_type": "markdown",
   "id": "ac0f0cf9-8911-4d56-ba42-18f8ce28870f",
   "metadata": {},
   "source": [
    "<br> <p style=\"font-size: 18px\"> Note: Please read dumb25519.py code for better understanding of PointVector. </p>"
   ]
  },
  {
   "cell_type": "markdown",
   "id": "83620e50-d640-4767-b193-93cb3220348a",
   "metadata": {},
   "source": [
    "# <br><br><br><br> <center> Exercises </center>"
   ]
  },
  {
   "cell_type": "markdown",
   "id": "5c45f3a0-7209-4478-96e6-7316b9a44c28",
   "metadata": {},
   "source": [
    "Exercise 1 : Implement Shamir Secret Sharing <br>\n",
    "Read more: https://en.wikipedia.org/wiki/Shamir%27s_Secret_Sharing <br>\n",
    "Here's the scenario: <br>\n",
    "&emsp;You know a secret. you call n other people (which we call 'players').<br>\n",
    "&emsp;You must give each player a \"partial key\" so that exactly m people (with m <= n)<br>\n",
    "&emsp;is required to recover the secret. how would you do that?<br>\n",
    "Shamir secret sharing allows you to do this!"
   ]
  },
  {
   "cell_type": "markdown",
   "id": "58cc6100-b17c-4fff-b92e-e5f68c19bc42",
   "metadata": {},
   "source": [
    "<br>here's the actual secret. the players must not know this (until recovery at least)"
   ]
  },
  {
   "cell_type": "code",
   "execution_count": null,
   "id": "3e84b1c3-fa63-417a-9aa7-5f354a59a8cf",
   "metadata": {},
   "outputs": [],
   "source": [
    "actual_secret = Scalar(123456789)"
   ]
  },
  {
   "cell_type": "markdown",
   "id": "b3cfc594-beb3-407b-af55-af6cb6dec6e7",
   "metadata": {},
   "source": [
    "<br> Build the secret polynomial: we want m = 3 players to recover the secret<br>\n",
    "hence len(poly) should be 3, or in other words, degree of polynomial should be 2.<br>\n",
    "Set coeff[0] = actual_secret, and the other coeff must be random scalars.<br>\n",
    "<br>note: coeff[0] corresponds to x ** 0 = 1, coeff[1] corresponds to x ** 1 = x,<br>\n",
    "&emsp; &emsp; coeff[2] corresponds to x ** 2, etc.<br>"
   ]
  },
  {
   "cell_type": "code",
   "execution_count": null,
   "id": "b232e584-1f1d-4122-9f37-e9f18313867e",
   "metadata": {},
   "outputs": [],
   "source": [
    "# pre_poly = [None for i in range(3)]\n",
    "# <your code here>\n",
    "# poly = ScalarVector(pre_poly)"
   ]
  },
  {
   "cell_type": "markdown",
   "id": "a8f2f6cd-4a3d-4ced-bf6a-92381bea9212",
   "metadata": {},
   "source": [
    "<br>Note: coeff[0] corresponds to x ** 0 = 1, coeff[1] corresponds to x ** 1 = x,<br>\n",
    "&emsp; &emsp; coeff[2] corresponds to x ** 2, etc."
   ]
  },
  {
   "cell_type": "code",
   "execution_count": null,
   "id": "debeb7e0-2016-479b-918b-dc69202c1647",
   "metadata": {},
   "outputs": [],
   "source": [
    "# polynomial evaluation poly(x)\n",
    "#    * coeff: ScalarVector of coefficients\n",
    "\n",
    "def poly_eval(x: Scalar, coeff: ScalarVector) -> Scalar:\n",
    "    powers_x = ScalarVector()\n",
    "    powers_x.append(Scalar(1))\n",
    "    for i in range(len(coeff) - 1):\n",
    "        powers_x.append(x * powers_x[i])\n",
    "    return powers_x ** coeff"
   ]
  },
  {
   "cell_type": "markdown",
   "id": "0dfe0997-8b6b-4a18-91b6-93837cc7d33c",
   "metadata": {},
   "source": [
    "List of n = 5 'players'/x-coord of share coords<br>\n",
    "Note : Scalar(0) is not allowed in player_list because poly(0) = secret (which leaks the secret)"
   ]
  },
  {
   "cell_type": "code",
   "execution_count": null,
   "id": "ce7768b7-e450-46ad-a01d-cddf2beb016c",
   "metadata": {},
   "outputs": [],
   "source": [
    "player_list = [Scalar(1), Scalar(2), Scalar(3), Scalar(4), Scalar(5)]"
   ]
  },
  {
   "cell_type": "markdown",
   "id": "2d5d13a6-0b15-434e-9f2a-e59c99acff49",
   "metadata": {},
   "source": [
    "<br>Build all share coords. these are the \"partial keys\" to be sent to the players|"
   ]
  },
  {
   "cell_type": "code",
   "execution_count": null,
   "id": "2403587c-55cf-4e87-9fea-d7bc7443f404",
   "metadata": {},
   "outputs": [],
   "source": [
    "# all_coords = []\n",
    "# for xi in player_list:\n",
    "    # all_coords.append((xi, poly_eval(xi, poly)))"
   ]
  },
  {
   "cell_type": "markdown",
   "id": "2229e013-e901-4963-bbec-e5c07bc59440",
   "metadata": {},
   "source": [
    "<br><p style=\"font-size: 16px\"> Recover the secret: implement the formula in the following link:<br>\n",
    "https://en.wikipedia.org/wiki/Shamir%27s_Secret_Sharing#Computationally_efficient_approach\n",
    "   * coords: set of coords for recovery <br>\n",
    "Note: Our \"division\" is (x1 * x2.invert()), NOT (x1 // x2) !!! </p>"
   ]
  },
  {
   "cell_type": "code",
   "execution_count": null,
   "id": "c96d1f3a-8f81-437f-9838-967e9d2f7a7b",
   "metadata": {},
   "outputs": [],
   "source": [
    "def recover(coords: list) -> Scalar:\n",
    "    # <your code here>\n",
    "    pass"
   ]
  },
  {
   "cell_type": "markdown",
   "id": "c4e2729a-0021-447b-bf9b-95f8a6169fe6",
   "metadata": {},
   "source": [
    "Here's a 3 coords to recover secret: <br>\n",
    "Experiment: what would happen if 1) you change some indexes?, and 2) add/remove coords? <br>\n",
    "Recover_coords = [all_coords[0], all_coords[2], all_coords[4]]"
   ]
  },
  {
   "cell_type": "code",
   "execution_count": null,
   "id": "30136024-1a11-4a46-aa0d-4622497bca4d",
   "metadata": {},
   "outputs": [],
   "source": [
    "# recovered_secret = recover(recover_coords)\n",
    "# if recovered_secret == actual_secret:\n",
    "    # print(\"\\nThe implementation of Shamir secret sharing works!\")\n",
    "# else:\n",
    "    # print(\"\\nThere's a problem in implementation of Shamir secret sharing"
   ]
  }
 ],
 "metadata": {
  "kernelspec": {
   "display_name": "Python 3",
   "language": "python",
   "name": "python3"
  },
  "language_info": {
   "codemirror_mode": {
    "name": "ipython",
    "version": 3
   },
   "file_extension": ".py",
   "mimetype": "text/x-python",
   "name": "python",
   "nbconvert_exporter": "python",
   "pygments_lexer": "ipython3",
   "version": "3.8.8"
  }
 },
 "nbformat": 4,
 "nbformat_minor": 5
}
