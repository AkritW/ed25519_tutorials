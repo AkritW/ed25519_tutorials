{
 "cells": [
  {
   "cell_type": "markdown",
   "id": "c09fb5f0-9420-4d3f-be9b-09674fb4567e",
   "metadata": {},
   "source": [
    "# Elliptic curve cryptography (ed25519) Python3 beginner tutorial (part 1)"
   ]
  },
  {
   "cell_type": "markdown",
   "id": "63361801-9582-41cd-a111-4c7c37e09459",
   "metadata": {
    "tags": []
   },
   "source": [
    "<center><img src='jupy_images/elliptic_curve_pic.png' width=\"500\" height=\"500\"></center>"
   ]
  },
  {
   "cell_type": "code",
   "execution_count": null,
   "id": "c3b30206-cd61-4402-8825-ed85acf4ae5a",
   "metadata": {},
   "outputs": [],
   "source": [
    "# importing elliptic curve (ed25519)\n",
    "import dumb25519\n",
    "from dumb25519 import Scalar, Point"
   ]
  },
  {
   "cell_type": "markdown",
   "id": "0a924093-99b2-44a5-9fc6-ef2f8616ce6d",
   "metadata": {},
   "source": [
    "<p style=\"font-size: 24px\"> Treat an elliptic curve group of points like you do vectors:\n",
    "You can add/subtract points (G + H, G - H) and you can do scalar multiplication with it (x * G or xG for short). </p>"
   ]
  },
  {
   "cell_type": "markdown",
   "id": "31d78215-b1c4-4b63-af41-724460d83416",
   "metadata": {},
   "source": [
    "<p style=\"font-size: 24px\"> Difference #1: the scalars. in vector calculus, the scalar is real numbers. <br>\n",
    "On the other hand, our scalar is integers modulo a large prime number l. in other words, our scalars are only from 0 to (l - 1) (the remainders when any integer is divided by l). </p>"
   ]
  },
  {
   "cell_type": "markdown",
   "id": "826c5c1e-3ce9-4c0d-8b02-123d5380830f",
   "metadata": {},
   "source": [
    "<br><p style=\"font-size: 24px\"> Visualize it as a Finite Field with a finite amout of integers (in this case, the large prime number is; 2**255 - 19) </p>"
   ]
  },
  {
   "cell_type": "markdown",
   "id": "48494a9f-4e70-42f2-b769-11dca64fbd3a",
   "metadata": {},
   "source": [
    "<img src='jupy_images/finite_field.PNG' width=\"400\" height=\"400\">"
   ]
  },
  {
   "cell_type": "code",
   "execution_count": null,
   "id": "d0951246-b140-442b-b675-53d4fb0e8c2f",
   "metadata": {},
   "outputs": [],
   "source": [
    "# Here's the l:\n",
    "print(\"l = \" + str(dumb25519.l))"
   ]
  },
  {
   "cell_type": "code",
   "execution_count": null,
   "id": "cd3a5e31-bda1-4ab5-8eaf-45a858d06cbe",
   "metadata": {},
   "outputs": [],
   "source": [
    "# scalar initialize\n",
    "one = Scalar(1)\n",
    "two = Scalar(2)\n",
    "sum = one + two"
   ]
  },
  {
   "cell_type": "markdown",
   "id": "272afaa4-e573-4e4b-afd4-f6cbdf36e919",
   "metadata": {},
   "source": [
    "<p style=\"font-size: 24px\"> Scalar(< num >) </p>"
   ]
  },
  {
   "cell_type": "code",
   "execution_count": null,
   "id": "b7b3d310-7188-4763-9b4c-81e5fe2f9d34",
   "metadata": {},
   "outputs": [],
   "source": [
    "print(\"Addition:\")\n",
    "print(str(one) + \" + \" + str(two) + \" = \" + str(sum) + \"\\n\")\n",
    "\n",
    "print(\"Here's the more normal-looking equation:\")\n",
    "print(str(one.x) + \" + \" + str(two.x) + \" = \" + str(sum.x))\n",
    "# note : .x is to convert Scalar into int"
   ]
  },
  {
   "cell_type": "markdown",
   "id": "ce0397be-2023-49e1-ade0-ecea418377ba",
   "metadata": {},
   "source": [
    "<p style=\"font-size: 24px\"> Woah! It's written differently. This is because relevant types of data have a standard \\\n",
    "format (it's in hex). </p> <br>"
   ]
  },
  {
   "cell_type": "code",
   "execution_count": null,
   "id": "a1cf05a2-aca7-41d6-b9b1-dad0103a26e8",
   "metadata": {},
   "outputs": [],
   "source": [
    "# other operations\n",
    "diff = one - two\n",
    "print(\"Substraction:\")\n",
    "print(str(one) + \" - \" + str(two) + \" = \" + str(diff) + \"\\n\")\n",
    "\n",
    "print(\"In a more simple term:\")\n",
    "print(str(one.x) + \" - \" + str(two.x) + \" = \" + str(diff.x))"
   ]
  },
  {
   "cell_type": "markdown",
   "id": "5408ea34-ecf9-4b64-9c14-9a60d118b3d1",
   "metadata": {},
   "source": [
    "<p style=\"font-size: 24px\"> What?! Not -1? Again, our numbers are only from 0 to (l - 1). Hence -1 becomes \n",
    "\"the same\" with (l - 1). </p> <br>"
   ]
  },
  {
   "cell_type": "code",
   "execution_count": null,
   "id": "ef164d3d-c685-4e3b-9a5e-e96660890a6e",
   "metadata": {},
   "outputs": [],
   "source": [
    "prod = one * two\n",
    "print(\"Product:\")\n",
    "print(str(one) + \" * \" + str(two) + \" = \" + str(prod) + \"\\n\")\n",
    "\n",
    "print(\"In a more simple term:\")\n",
    "print(str(one.x) + \" * \" + str(two.x) + \" = \" + str(prod.x))"
   ]
  },
  {
   "cell_type": "markdown",
   "id": "3fb14621-9428-49f8-9621-f2ecc4a0efd1",
   "metadata": {},
   "source": [
    "<br><p style=\"font-size: 24px\"> We have something like \"division\", but we do not use slash.<br>\n",
    "Instead, inversion (analogous to \"reciprocal\") is performed on the supposed divisor, then perform multiplication. </p>"
   ]
  },
  {
   "cell_type": "markdown",
   "id": "11f6b9cf-e79b-4a22-843a-a7910e6b5514",
   "metadata": {},
   "source": [
    "quot = one * two.invert()\n",
    "print(\"Division:\")\n",
    "print(str(one) + \" / \" + str(two) + \" = \" + str(quot) + \"\\n\")\n",
    "\n",
    "print(\"In a more simple term:\")\n",
    "print(str(one.x) + \" / \" + str(two.x) + \" = \" + str(quot.x))"
   ]
  },
  {
   "cell_type": "markdown",
   "id": "370ea4a4-8dd4-4554-8192-66ff44b515ab",
   "metadata": {},
   "source": [
    "<p style=\"font-size: 24px\"> ...Yeah this doesn't make much sense. 1/2 becomes \\\"the same\\\" with... that quotient.\\n\\\n",
    "To make sense of this, we multiply the \\\"quotient\\\" and 2. The product should be 1 \\\n",
    "like x * (1/x) = 1.\" </p><br>"
   ]
  },
  {
   "cell_type": "code",
   "execution_count": null,
   "id": "81da5f7a-1f88-41ad-8fd9-ac1d5af368ac",
   "metadata": {},
   "outputs": [],
   "source": [
    "prod2 = two * quot\n",
    "print(str(two.x) + \" * \" + str(quot.x) + \" = \" + str(prod2.x))"
   ]
  },
  {
   "cell_type": "markdown",
   "id": "3a0fda02-17b3-4165-90b5-f9972900722e",
   "metadata": {},
   "source": [
    "<br><p style=\"font-size: 24px\"> Exponent is also possible. the power should be a natural number only. </p>"
   ]
  },
  {
   "cell_type": "code",
   "execution_count": null,
   "id": "eb453351-1d6e-4fe1-ae67-286d9b4e004f",
   "metadata": {},
   "outputs": [],
   "source": [
    "exp = two ** 3\n",
    "print(str(two.x) + \" ** 3 = \" + str(exp.x))"
   ]
  },
  {
   "cell_type": "markdown",
   "id": "0fb4d0ca-a5bb-4a25-81fe-c7ce2687934b",
   "metadata": {},
   "source": [
    "<br><p style=\"font-size: 24px\"> Get a random scalar :&emsp;dumb25519.random_scalar() </p>"
   ]
  },
  {
   "cell_type": "code",
   "execution_count": null,
   "id": "2a852780-784f-4faf-96cf-6602110facec",
   "metadata": {},
   "outputs": [],
   "source": [
    "rnd_scalar = dumb25519.random_scalar()\n",
    "print(\"Random scalar: \" + str(rnd_scalar) + \" or \\n\" + str(rnd_scalar.x))"
   ]
  },
  {
   "cell_type": "markdown",
   "id": "327bbe37-7ac8-452a-9827-9016f751fed1",
   "metadata": {},
   "source": [
    "<br><p style=\"font-size: 24px\"> Other Scalar operations in dumb25519: <br>\n",
    "Comparsion (does not account for overflow), true truncated division (\"//\"), etc.\n",
    "We are done with Scalars. </p>"
   ]
  },
  {
   "cell_type": "markdown",
   "id": "70e796ba-a89b-4db9-9ef1-b91d9dad35dc",
   "metadata": {},
   "source": [
    "<br><br><br> <p style=\"font-size: 24px\"> Differences #2: the elliptic curve points. <br>\n",
    "These are actually points (x,y) but the x and y are integers modulo another large (not necessarily prime) number q (the value is in dumb25519.q) <br>\n",
    "We usually do not initialize points like we initialize scalar. instead, we use\n",
    "either one of the two: </p>"
   ]
  },
  {
   "cell_type": "markdown",
   "id": "5e149833-bdfa-450d-9400-9ef5523fffd1",
   "metadata": {},
   "source": [
    "<p style=\"font-size: 18px\"> 1) get a random point </p>"
   ]
  },
  {
   "cell_type": "code",
   "execution_count": null,
   "id": "bf985b62-b5a5-4d09-99ec-57dd175ef2d8",
   "metadata": {},
   "outputs": [],
   "source": [
    "rnd_point = dumb25519.random_point()\n",
    "actual_point = (rnd_point.x, rnd_point.y)   # coords\n",
    "\n",
    "print(\"\\nRandom point: \" + str(rnd_point) + \" or \\n\" + str(actual_point))"
   ]
  },
  {
   "cell_type": "markdown",
   "id": "caf807e2-d33a-4cd1-818a-c4808fcfffdd",
   "metadata": {},
   "source": [
    "<br><p style=\"font-size: 18px\"> 2) using the \"base generator\" G </p>"
   ]
  },
  {
   "cell_type": "code",
   "execution_count": null,
   "id": "df846dbf-137a-4254-86a2-5cf4679a0c55",
   "metadata": {},
   "outputs": [],
   "source": [
    "print(\"Base generator: \" + str(dumb25519.G) + \" or \\n\" + str((dumb25519.Gx, dumb25519.Gy)))"
   ]
  },
  {
   "cell_type": "markdown",
   "id": "b45cf8e7-7c26-4d5c-9bdd-eb9d1f7fe2b1",
   "metadata": {},
   "source": [
    "<p style=\"font-size: 24px\"><br>Now to produce another point from G (or any other point), we can do, as being said earlier, \n",
    "addition/subtraction of points (G + H, G - H) and scalar multiplication xG for scalar x.</p>"
   ]
  },
  {
   "cell_type": "code",
   "execution_count": null,
   "id": "910112f7-b165-4fc0-b2ab-6c5ae5cdeac7",
   "metadata": {},
   "outputs": [],
   "source": [
    "twoG = dumb25519.G + dumb25519.G\n",
    "zero = dumb25519.G - dumb25519.G\n",
    "\n",
    "print(\"G + G = \" + str(twoG))\n",
    "print(\"G - G = \" + str(zero))"
   ]
  },
  {
   "cell_type": "markdown",
   "id": "379399a8-e6cc-491a-ae35-0240df9c155e",
   "metadata": {},
   "source": [
    "<br><p style=\"font-size: 24px\"> Here is the \"zero\" point: </p>\n"
   ]
  },
  {
   "cell_type": "code",
   "execution_count": null,
   "id": "ab7732d1-0db4-4401-973f-c2565dc8b7b7",
   "metadata": {},
   "outputs": [],
   "source": [
    "print(\"    Z = \" + str(dumb25519.Z))\n",
    "print(\"Are G - G and Z the same?\")"
   ]
  },
  {
   "cell_type": "markdown",
   "id": "9faad0ff-6e34-4732-ae66-3bf3ddb93768",
   "metadata": {},
   "source": [
    "<br><br><p style=\"font-size: 24px\">This is how Point addition looks like :</p>"
   ]
  },
  {
   "cell_type": "markdown",
   "id": "f4149b0e-b339-4f63-b6d1-fcf66920e12d",
   "metadata": {},
   "source": [
    "<img src='jupy_images/elliptic_curve_addition.jpeg'>"
   ]
  },
  {
   "cell_type": "markdown",
   "id": "87f7f74b-a149-4857-bf5d-476b255fe0c1",
   "metadata": {},
   "source": [
    "<br><br> <p style=\"font-size: 24px\"> Introducing to Discrete Logarithm Problem (DLP)</p>"
   ]
  },
  {
   "cell_type": "code",
   "execution_count": null,
   "id": "2e4cc5f3-bc91-4d8e-ba58-6d3c70237327",
   "metadata": {},
   "outputs": [],
   "source": [
    "for i in range(15):\n",
    "    another_point = Scalar(i) * dumb25519.G\n",
    "    print(str(i) + \" * G = \" + str(another_point))"
   ]
  },
  {
   "cell_type": "markdown",
   "id": "f9100333-71d6-48b7-a7b6-be4947a34c34",
   "metadata": {},
   "source": [
    "<p style=\"font-size: 18px\"> Note : Those last points look \"random\". This IS a big reason why we use elliptic curves in cryptography: <br>\n",
    "If I give you a random point P (i.e. from dumb25519.random_point()), it is assumed to be impossible to find the x \\nsuch that P = xG. <br>\n",
    "The problem of finding x is called \"Discrete Logarithm Problem\" (DLP) and the impossibility assumption is called Discrete Logarithm (DL) assumption.\"<br> </p>"
   ]
  },
  {
   "cell_type": "markdown",
   "id": "5b36ef45-5cee-48a2-b63b-41e7c2a0d6bc",
   "metadata": {},
   "source": [
    "<br> <p style=\"font-size: 24px\"> Notes on Cryptographic Hash Functions</p>"
   ]
  },
  {
   "cell_type": "markdown",
   "id": "b3b46fa0-0c71-45a2-8c7b-3c55bea9b873",
   "metadata": {},
   "source": [
    "dumb25519 provides two hash functions: hash_to_scalar() and hash_to_point() that outputs a Scalar and a Point respectively. <br>\n",
    "Any data that can be converted to string can be input there."
   ]
  },
  {
   "cell_type": "code",
   "execution_count": null,
   "id": "9aced8c7-050c-4546-9e46-5001d0f84680",
   "metadata": {
    "tags": []
   },
   "outputs": [],
   "source": [
    "yet_another_scalar = dumb25519.hash_to_scalar(\"tutorial\", Scalar(12))\n",
    "yet_another_point =  dumb25519.hash_to_point(\"tutorial\", dumb25519.G)\n",
    "\n",
    "print(\"\\nHash scalar: \" + str(yet_another_scalar))\n",
    "print(\"Hash point: \" + str(yet_another_point))\n",
    "\n",
    "# note that the output of hash_to_scalar() is NOT the discrete log of the output of hash_to_point()."
   ]
  },
  {
   "cell_type": "markdown",
   "id": "4d614471-47f1-4169-ae8a-505a9ca40ba8",
   "metadata": {},
   "source": [
    "# <br><br><br><br>Exercises"
   ]
  },
  {
   "cell_type": "markdown",
   "id": "fe818e1c-a4a6-4768-96eb-68b06d77d842",
   "metadata": {},
   "source": [
    "<p style=\"font-size: 16px\"> Exercises 1 : What is (-1)G + G ?"
   ]
  },
  {
   "cell_type": "code",
   "execution_count": null,
   "id": "d72ce326-5b80-4490-90ca-635d541f0e5e",
   "metadata": {},
   "outputs": [],
   "source": [
    "# <your code here>"
   ]
  },
  {
   "cell_type": "markdown",
   "id": "75263aee-cb36-4f55-ad5c-efbafa76cc0e",
   "metadata": {},
   "source": [
    "<br> <p style=\"font-size: 16px\"> Exercies 2 : What is (1/x)*(xG) ? is Z == Z + dumb25519.random_point()? </p>"
   ]
  },
  {
   "cell_type": "code",
   "execution_count": null,
   "id": "8b00afc3-ba9a-4d23-9eee-68f3fcc5b085",
   "metadata": {},
   "outputs": [],
   "source": [
    "# <your code here>"
   ]
  },
  {
   "cell_type": "markdown",
   "id": "2ab1a1c8-4272-4536-91d8-5f0b129bd512",
   "metadata": {},
   "source": [
    "<p style=\"font-size: 16px\"> <br>There is another reason we use elliptic curves; the Diffie-Hellman (DH) key exchange<br><br>\n",
    "Exercies 3 : Implement DH key exchange (just use variables). <br> Alice and Bob wants to share a secret scalar only they would know.\n",
    "<br> Using the generator G and dumb25519.hash_to_scalar(), how would they do it?<br>\n",
    " Show that after the key exchange, Alice and Bob has a shared secret. </p>"
   ]
  },
  {
   "cell_type": "code",
   "execution_count": null,
   "id": "b08b1cbc-85b5-42b5-9df7-309956731dd3",
   "metadata": {},
   "outputs": [],
   "source": [
    "# <your code here>\n",
    "\n",
    "# if alice_final == bob_final:\n",
    "    # print(\"DH key exchange successful.\")\n",
    "# else:\n",
    "    # print(\"DH key exchange failed.\")"
   ]
  },
  {
   "cell_type": "markdown",
   "id": "d8244c12-b235-43c8-bf66-430bef1a96d1",
   "metadata": {},
   "source": [
    "<p style=\"font-size: 16px\"><br> Exercise 4 : Monero cryptocurrency uses Pedersen commitment to hide amounts in the blockchain. <br>\n",
    "Implement Pedersen commitment: given a scalar x, it must output a pair (r, rG + xH) where r is\n",
    "a random Scalar. <br> For Monero, r should never be in the blockchain, only the rG + xH is. <br><br> </p>\n",
    "\n",
    "<p style=\"font-size: 16px\"> Then demonstrate the homomorphicity of Pedersen commitment: <br> \n",
    "Show that pedersen(x1) + pedersen(x2) = (r1 + r2)G + (x1 + x2)H <br> \n",
    "Where r1 and r2 are the 'r' output of pedersen(x1) and pedersen(x2), respectively. </p>"
   ]
  },
  {
   "cell_type": "code",
   "execution_count": null,
   "id": "ab50cb79-772c-4b26-bd74-19229f648276",
   "metadata": {},
   "outputs": [],
   "source": [
    "H = dumb25519.hash_to_point(\"Pedersen\")\n",
    "\n",
    "def pedersen(amount):\n",
    "    # <your code here>\n",
    "    pass\n",
    "\n",
    "\n",
    "# test for homomorphicity\n",
    "# commit2 = (r1 + r2) * G + (x1 + x2) * H\n",
    "# if commit1 == commit2:\n",
    "    # print(\"You demonstrated that Pedersen commitment is homomorphic!\")\n",
    "# else:\n",
    "    # print(\"Something's wrong :(\")"
   ]
  },
  {
   "cell_type": "markdown",
   "id": "1e3c8dc9-29bf-4885-84c3-a4a80e5d7bed",
   "metadata": {},
   "source": [
    "<p style=\"font-size: 16px\"> <br> Exercise 5 : Implement Elgamal point encryption scheme. <br>\n",
    "This is rarely used because the points are rarely encrypted (if ever). <br><br>\n",
    "Here's the scenario: <br>\n",
    "&emsp; Alice must send the point Y to Bob securely. Bob generates a random keypair (x, xG). <br>\n",
    "&emsp; x is the private key, and P = xG is the public key to be shared to Alice. Alice encrypts <br>\n",
    "&emsp; Y using P, and sends the cipher to Bob. Bob then decrypts the cipher using x. <br><br>\n",
    "Just like in DH key exchange, just use variables. <br>\n",
    "Encryption: given a point Y and point P, it must output a pair (rG, Y + rP) where r is a random scalar. <br>\n",
    "Decryption: given a cipher pair (C1, C2) and a scalar x, output Y = C2 - x * C1. <br><br>\n",
    "\n",
    "Then demonstrate the homomorphicity of Elgamal encryption scheme. <br>\n",
    "Using two plaintexts 69000 * H and 420 * H, encrypt both separately, then pairwise add the two ciphers, then decrypt the \"sum\" cipher. <br>\n",
    " What is the decrypted plaintext? </p>"
   ]
  },
  {
   "cell_type": "code",
   "execution_count": null,
   "id": "77b62319-8276-4f43-9f6b-988b8931b13e",
   "metadata": {},
   "outputs": [],
   "source": [
    "bob_prvkey = dumb25519.random_scalar()\n",
    "bob_pubkey = bob_prvkey * dumb25519.G\n",
    "\n",
    "plain1 = Scalar(69000) * H\n",
    "plain2 = Scalar(420) * H\n",
    "\n",
    "def elgamal_enc(plain: Point, bob_pubkey: Point) -> tuple:\n",
    "    # <your code here>\n",
    "    pass\n",
    "\n",
    "def elgamal_dec(cipher: tuple, bob_prvkey: Scalar) -> Point:\n",
    "    # <your code here>\n",
    "    pass\n",
    "\n",
    "# <your code here>\n",
    "\n",
    "# test for homomorphicity\n",
    "expected_dec = Scalar(69420) * H\n",
    "# if actual_dec == expected_dec:\n",
    "    # print(\"You demonstrated that Elgamal is homomorphic!\")\n",
    "# else:\n",
    "    # print(\"Something's wrong :(\")"
   ]
  },
  {
   "cell_type": "code",
   "execution_count": null,
   "id": "f9a5b56a-7078-4e11-bcac-9e993a23e391",
   "metadata": {},
   "outputs": [],
   "source": []
  }
 ],
 "metadata": {
  "kernelspec": {
   "display_name": "Python 3",
   "language": "python",
   "name": "python3"
  },
  "language_info": {
   "codemirror_mode": {
    "name": "ipython",
    "version": 3
   },
   "file_extension": ".py",
   "mimetype": "text/x-python",
   "name": "python",
   "nbconvert_exporter": "python",
   "pygments_lexer": "ipython3",
   "version": "3.8.8"
  }
 },
 "nbformat": 4,
 "nbformat_minor": 5
}
