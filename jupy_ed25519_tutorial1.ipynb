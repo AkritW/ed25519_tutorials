{
 "cells": [
  {
   "cell_type": "markdown",
   "id": "c09fb5f0-9420-4d3f-be9b-09674fb4567e",
   "metadata": {},
   "source": [
    "# Elliptic curve cryptography (ed25519) Python3 beginner tutorial (part 1)"
   ]
  },
  {
   "cell_type": "markdown",
   "id": "63361801-9582-41cd-a111-4c7c37e09459",
   "metadata": {
    "tags": []
   },
   "source": [
    "<center><img src='jupy_images/elliptic_curve_pic.png' width=\"500\" height=\"500\"></center>"
   ]
  },
  {
   "cell_type": "code",
   "execution_count": 1,
   "id": "c3b30206-cd61-4402-8825-ed85acf4ae5a",
   "metadata": {},
   "outputs": [],
   "source": [
    "# importing elliptic curve (ed25519)\n",
    "import dumb25519\n",
    "from dumb25519 import Scalar, Point"
   ]
  },
  {
   "cell_type": "markdown",
   "id": "0a924093-99b2-44a5-9fc6-ef2f8616ce6d",
   "metadata": {},
   "source": [
    "Treat an elliptic curve group of points like you do vectors:\n",
    "You can add/subtract points (G + H, G - H) and you can do scalar multiplication with it (x * G or xG for short)."
   ]
  },
  {
   "cell_type": "markdown",
   "id": "31d78215-b1c4-4b63-af41-724460d83416",
   "metadata": {},
   "source": [
    "Difference #1: the scalars. in vector calculus, the scalar is real numbers. <br>\n",
    "On the other hand, our scalar is integers modulo a large prime number l. in other words, our scalars are only from 0 to (l - 1) (the remainders when any integer is divided by l)."
   ]
  },
  {
   "cell_type": "markdown",
   "id": "826c5c1e-3ce9-4c0d-8b02-123d5380830f",
   "metadata": {},
   "source": [
    "Visualize it as a Finite Field with a finite amout of integers (in this case, the large prime number is; 2**255 - 19)"
   ]
  },
  {
   "cell_type": "markdown",
   "id": "48494a9f-4e70-42f2-b769-11dca64fbd3a",
   "metadata": {},
   "source": [
    "<img src='jupy_images/finite_field.png' width=\"600\" height=\"600\">"
   ]
  },
  {
   "cell_type": "code",
   "execution_count": 2,
   "id": "d0951246-b140-442b-b675-53d4fb0e8c2f",
   "metadata": {},
   "outputs": [
    {
     "name": "stdout",
     "output_type": "stream",
     "text": [
      "l = 7237005577332262213973186563042994240857116359379907606001950938285454250989\n"
     ]
    }
   ],
   "source": [
    "# Here's the l:\n",
    "print(\"l = \" + str(dumb25519.l))"
   ]
  },
  {
   "cell_type": "code",
   "execution_count": 3,
   "id": "cd3a5e31-bda1-4ab5-8eaf-45a858d06cbe",
   "metadata": {},
   "outputs": [],
   "source": [
    "# scalar initialize\n",
    "one = Scalar(1)\n",
    "two = Scalar(2)\n",
    "sum = one + two"
   ]
  },
  {
   "cell_type": "markdown",
   "id": "272afaa4-e573-4e4b-afd4-f6cbdf36e919",
   "metadata": {},
   "source": [
    "Scalar(\\<num>)"
   ]
  },
  {
   "cell_type": "code",
   "execution_count": 4,
   "id": "b7b3d310-7188-4763-9b4c-81e5fe2f9d34",
   "metadata": {},
   "outputs": [
    {
     "name": "stdout",
     "output_type": "stream",
     "text": [
      "Addition:\n",
      "0100000000000000000000000000000000000000000000000000000000000000 + 0200000000000000000000000000000000000000000000000000000000000000 = 0300000000000000000000000000000000000000000000000000000000000000\n",
      "\n",
      "Woah! It's written differently. This is because relevant types of data have a standard format (it's in hex).\n",
      "Here's the more normal-looking equation:\n",
      "1 + 2 = 3\n"
     ]
    }
   ],
   "source": [
    "print(\"Addition:\")\n",
    "print(str(one) + \" + \" + str(two) + \" = \" + str(sum) + \"\\n\")\n",
    "\n",
    "print(\"Woah! It's written differently. This is because relevant types of data have a standard \\\n",
    "format (it's in hex).\")\n",
    "print(\"Here's the more normal-looking equation:\")\n",
    "print(str(one.x) + \" + \" + str(two.x) + \" = \" + str(sum.x))\n",
    "# note : .x is to convert Scalar into int"
   ]
  },
  {
   "cell_type": "code",
   "execution_count": 5,
   "id": "a1cf05a2-aca7-41d6-b9b1-dad0103a26e8",
   "metadata": {},
   "outputs": [
    {
     "name": "stdout",
     "output_type": "stream",
     "text": [
      "Substraction:\n",
      "0100000000000000000000000000000000000000000000000000000000000000 - 0200000000000000000000000000000000000000000000000000000000000000 = ecd3f55c1a631258d69cf7a2def9de1400000000000000000000000000000010\n",
      "\n",
      "In a more simple term:\n",
      "1 - 2 = 7237005577332262213973186563042994240857116359379907606001950938285454250988\n",
      "\n",
      "\n",
      "What?! Not -1? Again, our numbers are only from 0 to (l - 1). Hence -1 becomes \"the same\" with (l - 1).\n"
     ]
    }
   ],
   "source": [
    "# other operations\n",
    "diff = one - two\n",
    "print(\"Substraction:\")\n",
    "print(str(one) + \" - \" + str(two) + \" = \" + str(diff) + \"\\n\")\n",
    "print(\"In a more simple term:\")\n",
    "print(str(one.x) + \" - \" + str(two.x) + \" = \" + str(diff.x) + \"\\n\\n\")\n",
    "\n",
    "print(\"What?! Not -1? Again, our numbers are only from 0 to (l - 1). Hence -1 becomes \\\n",
    "\\\"the same\\\" with (l - 1).\")"
   ]
  },
  {
   "cell_type": "code",
   "execution_count": 6,
   "id": "ef164d3d-c685-4e3b-9a5e-e96660890a6e",
   "metadata": {},
   "outputs": [
    {
     "name": "stdout",
     "output_type": "stream",
     "text": [
      "Product:\n",
      "0100000000000000000000000000000000000000000000000000000000000000 * 0200000000000000000000000000000000000000000000000000000000000000 = 0200000000000000000000000000000000000000000000000000000000000000\n",
      "\n",
      "In a more simple term:\n",
      "1 * 2 = 2\n"
     ]
    }
   ],
   "source": [
    "prod = one * two\n",
    "print(\"Product:\")\n",
    "print(str(one) + \" * \" + str(two) + \" = \" + str(prod) + \"\\n\")\n",
    "\n",
    "print(\"In a more simple term:\")\n",
    "print(str(one.x) + \" * \" + str(two.x) + \" = \" + str(prod.x))"
   ]
  },
  {
   "cell_type": "markdown",
   "id": "3fb14621-9428-49f8-9621-f2ecc4a0efd1",
   "metadata": {},
   "source": [
    "<br>We have something like \"division\", but we do not use slash.<br>\n",
    "Instead, inversion (analogous to \"reciprocal\") is performed on the supposed divisor, then perform multiplication."
   ]
  },
  {
   "cell_type": "code",
   "execution_count": 7,
   "id": "4037685d-33e5-4935-8a37-ae091c35b45d",
   "metadata": {},
   "outputs": [
    {
     "name": "stdout",
     "output_type": "stream",
     "text": [
      "Division:\n",
      "0100000000000000000000000000000000000000000000000000000000000000 / 0200000000000000000000000000000000000000000000000000000000000000 = f7e97a2e8d31092c6bce7b51ef7c6f0a00000000000000000000000000000008\n",
      "\n",
      "In a more simple term:\n",
      "1 / 2 = 3618502788666131106986593281521497120428558179689953803000975469142727125495\n",
      "\n",
      "\n",
      "...Yeah this doesn't make much sense. 1/2 becomes \"the same\" with... that quotient.\n",
      "To make sense of this, we multiply the \"quotient\" and 2. The product should be 1 like x * (1/x) = 1.\n"
     ]
    }
   ],
   "source": [
    "quot = one * two.invert()\n",
    "print(\"Division:\")\n",
    "print(str(one) + \" / \" + str(two) + \" = \" + str(quot) + \"\\n\")\n",
    "print(\"In a more simple term:\")\n",
    "print(str(one.x) + \" / \" + str(two.x) + \" = \" + str(quot.x) + \"\\n\\n\")\n",
    "\n",
    "print(\"...Yeah this doesn't make much sense. 1/2 becomes \\\"the same\\\" with... that quotient.\\n\\\n",
    "To make sense of this, we multiply the \\\"quotient\\\" and 2. The product should be 1 \\\n",
    "like x * (1/x) = 1.\")"
   ]
  },
  {
   "cell_type": "code",
   "execution_count": 8,
   "id": "81da5f7a-1f88-41ad-8fd9-ac1d5af368ac",
   "metadata": {},
   "outputs": [
    {
     "name": "stdout",
     "output_type": "stream",
     "text": [
      "2 * 3618502788666131106986593281521497120428558179689953803000975469142727125495 = 1\n"
     ]
    }
   ],
   "source": [
    "prod2 = two * quot\n",
    "print(str(two.x) + \" * \" + str(quot.x) + \" = \" + str(prod2.x))"
   ]
  },
  {
   "cell_type": "markdown",
   "id": "3a0fda02-17b3-4165-90b5-f9972900722e",
   "metadata": {},
   "source": [
    "<br>Exponent is also possible. the power should be a natural number only."
   ]
  },
  {
   "cell_type": "code",
   "execution_count": 9,
   "id": "eb453351-1d6e-4fe1-ae67-286d9b4e004f",
   "metadata": {},
   "outputs": [
    {
     "name": "stdout",
     "output_type": "stream",
     "text": [
      "2 ** 3 = 8\n"
     ]
    }
   ],
   "source": [
    "exp = two ** 3\n",
    "print(str(two.x) + \" ** 3 = \" + str(exp.x))"
   ]
  },
  {
   "cell_type": "markdown",
   "id": "0fb4d0ca-a5bb-4a25-81fe-c7ce2687934b",
   "metadata": {},
   "source": [
    "<br>Get a random scalar &emsp; (dumb25519.random_scalar())"
   ]
  },
  {
   "cell_type": "code",
   "execution_count": 10,
   "id": "2a852780-784f-4faf-96cf-6602110facec",
   "metadata": {},
   "outputs": [
    {
     "name": "stdout",
     "output_type": "stream",
     "text": [
      "Random scalar: d621422e4a84773267b76fc317cb4666d96ae076d1845b537e171b0145c7cb06 or \n",
      "3073922353525398904697431485067558830120207409144055460147229295928812904918\n"
     ]
    }
   ],
   "source": [
    "rnd_scalar = dumb25519.random_scalar()\n",
    "print(\"Random scalar: \" + str(rnd_scalar) + \" or \\n\" + str(rnd_scalar.x))"
   ]
  },
  {
   "cell_type": "markdown",
   "id": "327bbe37-7ac8-452a-9827-9016f751fed1",
   "metadata": {},
   "source": [
    "<br>Other Scalar operations in dumb25519: <br>\n",
    "Comparsion (does not account for overflow), true truncated division (\"//\"), etc.\n",
    "We are done with Scalars."
   ]
  },
  {
   "cell_type": "markdown",
   "id": "70e796ba-a89b-4db9-9ef1-b91d9dad35dc",
   "metadata": {},
   "source": [
    "<br><br><br>Differences #2: the elliptic curve points. <br>\n",
    "These are actually points (x,y) but the x and y are integers modulo another large (not necessarily prime) number q (the value is in dumb25519.q) <br>\n",
    "We usually do not initialize points like we initialize scalar. instead, we use\n",
    "either one of the two:"
   ]
  },
  {
   "cell_type": "markdown",
   "id": "5e149833-bdfa-450d-9400-9ef5523fffd1",
   "metadata": {},
   "source": [
    "1) get a random point"
   ]
  },
  {
   "cell_type": "code",
   "execution_count": 11,
   "id": "bf985b62-b5a5-4d09-99ec-57dd175ef2d8",
   "metadata": {},
   "outputs": [
    {
     "name": "stdout",
     "output_type": "stream",
     "text": [
      "\n",
      "Random point: 65747b430ff52e5d78851503a3fb77307189272d0fe55d07722db69686e7cb91 or \n",
      "(27554407936770438201587502344656223779879798825325581517210796315925052545769, 8049586311976289875296465230278523473626174339668128923459267261778211075173)\n"
     ]
    }
   ],
   "source": [
    "rnd_point = dumb25519.random_point()\n",
    "actual_point = (rnd_point.x, rnd_point.y)   # coords\n",
    "\n",
    "print(\"\\nRandom point: \" + str(rnd_point) + \" or \\n\" + str(actual_point))"
   ]
  },
  {
   "cell_type": "markdown",
   "id": "caf807e2-d33a-4cd1-818a-c4808fcfffdd",
   "metadata": {},
   "source": [
    "2) using the \"base generator\" G"
   ]
  },
  {
   "cell_type": "code",
   "execution_count": 12,
   "id": "df846dbf-137a-4254-86a2-5cf4679a0c55",
   "metadata": {},
   "outputs": [
    {
     "name": "stdout",
     "output_type": "stream",
     "text": [
      "Base generator: 5866666666666666666666666666666666666666666666666666666666666666 or \n",
      "(15112221349535400772501151409588531511454012693041857206046113283949847762202, 46316835694926478169428394003475163141307993866256225615783033603165251855960)\n"
     ]
    }
   ],
   "source": [
    "print(\"Base generator: \" + str(dumb25519.G) + \" or \\n\" + str((dumb25519.Gx, dumb25519.Gy)))"
   ]
  },
  {
   "cell_type": "markdown",
   "id": "b45cf8e7-7c26-4d5c-9bdd-eb9d1f7fe2b1",
   "metadata": {},
   "source": [
    "<br>Now to produce another point from G (or any other point), we can do, as being said earlier, \n",
    "addition/subtraction of points (G + H, G - H) and scalar multiplication xG for scalar x."
   ]
  },
  {
   "cell_type": "code",
   "execution_count": 13,
   "id": "910112f7-b165-4fc0-b2ab-6c5ae5cdeac7",
   "metadata": {},
   "outputs": [
    {
     "name": "stdout",
     "output_type": "stream",
     "text": [
      "G + G = c9a3f86aae465f0e56513864510f3997561fa2c9e85ea21dc2292309f3cd6022\n",
      "G - G = 0100000000000000000000000000000000000000000000000000000000000000\n"
     ]
    }
   ],
   "source": [
    "twoG = dumb25519.G + dumb25519.G\n",
    "zero = dumb25519.G - dumb25519.G\n",
    "\n",
    "print(\"G + G = \" + str(twoG))\n",
    "print(\"G - G = \" + str(zero))"
   ]
  },
  {
   "cell_type": "markdown",
   "id": "379399a8-e6cc-491a-ae35-0240df9c155e",
   "metadata": {},
   "source": [
    "<br>Here is the \"zero\" point:\n"
   ]
  },
  {
   "cell_type": "code",
   "execution_count": 14,
   "id": "ab7732d1-0db4-4401-973f-c2565dc8b7b7",
   "metadata": {},
   "outputs": [
    {
     "name": "stdout",
     "output_type": "stream",
     "text": [
      "    Z = 0100000000000000000000000000000000000000000000000000000000000000\n",
      "Are G - G and Z the same?\n"
     ]
    }
   ],
   "source": [
    "print(\"    Z = \" + str(dumb25519.Z))\n",
    "print(\"Are G - G and Z the same?\")"
   ]
  },
  {
   "cell_type": "markdown",
   "id": "9faad0ff-6e34-4732-ae66-3bf3ddb93768",
   "metadata": {},
   "source": [
    "<br><p style=\"font-size: 24px\">This is how Point addition looks like :</p>"
   ]
  },
  {
   "cell_type": "markdown",
   "id": "f4149b0e-b339-4f63-b6d1-fcf66920e12d",
   "metadata": {},
   "source": [
    "<img src=\"jupy_images\\elliptic_curve_addition.jpeg\">"
   ]
  },
  {
   "cell_type": "markdown",
   "id": "87f7f74b-a149-4857-bf5d-476b255fe0c1",
   "metadata": {},
   "source": [
    "<br> <p style=\"font-size: 24px\"> Introducing to Discrete Logarithm Problem (DLP)</p>"
   ]
  },
  {
   "cell_type": "code",
   "execution_count": 15,
   "id": "2e4cc5f3-bc91-4d8e-ba58-6d3c70237327",
   "metadata": {},
   "outputs": [
    {
     "name": "stdout",
     "output_type": "stream",
     "text": [
      "0 * G = 0100000000000000000000000000000000000000000000000000000000000000\n",
      "1 * G = 5866666666666666666666666666666666666666666666666666666666666666\n",
      "2 * G = c9a3f86aae465f0e56513864510f3997561fa2c9e85ea21dc2292309f3cd6022\n",
      "3 * G = d4b4f5784868c3020403246717ec169ff79e26608ea126a1ab69ee77d1b16712\n",
      "4 * G = 2f1132ca61ab38dff00f2fea3228f24c6c71d58085b80e47e19515cb27e8d047\n",
      "5 * G = edc876d6831fd2105d0b4389ca2e283166469289146e2ce06faefe98b22548df\n",
      "6 * G = f47e49f9d07ad2c1606b4d94067c41f9777d4ffda709b71da1d88628fce34d85\n",
      "7 * G = b862409fb5c4c4123df2abf7462b88f041ad36dd6864ce872fd5472be363c5b1\n",
      "8 * G = b4b937fca95b2f1e93e41e62fc3c78818ff38a66096fad6e7973e5c90006d321\n",
      "9 * G = c0f1225584444ec730446e231390781ffdd2f256e9fcbeb2f40dddc2c2233d7f\n",
      "10 * G = 2c7be86ab07488ba43e8e03d85a67625cfbf98c8544de4c877241b7aaafc7fe3\n",
      "11 * G = 1337036ac32d8f30d4589c3c1c595812ce0fff40e37c6f5a97ab213f318290ad\n",
      "12 * G = f9e42d2edc81d23367967352b47e4856b82578634e6c1de72280ce8b60ce70c0\n",
      "13 * G = 801f40eaaee1ef8723279a28b2cf4037b889dad222604678748b53ed0db0db92\n",
      "14 * G = 39289c8998fd69835c26b619e89848a7bf02b7cb7ad1ba1581cbc4506f2550ce\n",
      "\n",
      "\n",
      "Those last points look \"random\". This IS a big reason why we use elliptic curves in cryptography:\n",
      "\n",
      "If I give you a random point P (i.e. from dumb25519.random_point()), it is assumed to be impossible to find the x \n",
      "such that P = xG. The problem of finding x is called \"Discrete Logarithm Problem\" (DLP) and the impossibility \n",
      "assumption is called Discrete Logarithm (DL) assumption.\n"
     ]
    }
   ],
   "source": [
    "for i in range(15):\n",
    "    another_point = Scalar(i) * dumb25519.G\n",
    "    print(str(i) + \" * G = \" + str(another_point))\n",
    "print(\"\\n\\nThose last points look \\\"random\\\". This IS a big reason why we use elliptic curves in cryptography:\")\n",
    "print(\"\\nIf I give you a random point P (i.e. from dumb25519.random_point()), it is assumed to be \\\n",
    "impossible to find the x \\nsuch that P = xG. The problem of finding x is called \\\"Discrete Logarithm \\\n",
    "Problem\\\" (DLP) and the impossibility \\nassumption is called Discrete Logarithm (DL) assumption.\")"
   ]
  },
  {
   "cell_type": "markdown",
   "id": "5b36ef45-5cee-48a2-b63b-41e7c2a0d6bc",
   "metadata": {},
   "source": [
    "<br> <p style=\"font-size: 24px\"> Notes on Cryptographic Hash Functions</p>"
   ]
  },
  {
   "cell_type": "markdown",
   "id": "b3b46fa0-0c71-45a2-8c7b-3c55bea9b873",
   "metadata": {},
   "source": [
    "dumb25519 provides two hash functions: hash_to_scalar() and hash_to_point() that outputs a Scalar and a Point respectively. <br>\n",
    "Any data that can be converted to string can be input there."
   ]
  },
  {
   "cell_type": "code",
   "execution_count": 16,
   "id": "9aced8c7-050c-4546-9e46-5001d0f84680",
   "metadata": {
    "tags": []
   },
   "outputs": [
    {
     "name": "stdout",
     "output_type": "stream",
     "text": [
      "\n",
      "Hash scalar: a0613cb244a233af5e6a6d2890a9cbd6995aa9178466f40d1e555d87ecd4580b\n",
      "Hash point: 9ab576fc2b3764df7591b9d21b5b91bfb4629595f6e5b8287ef95297b54c812d\n"
     ]
    }
   ],
   "source": [
    "yet_another_scalar = dumb25519.hash_to_scalar(\"tutorial\", Scalar(12))\n",
    "yet_another_point =  dumb25519.hash_to_point(\"tutorial\", dumb25519.G)\n",
    "\n",
    "print(\"\\nHash scalar: \" + str(yet_another_scalar))\n",
    "print(\"Hash point: \" + str(yet_another_point))\n",
    "\n",
    "# note that the output of hash_to_scalar() is NOT the discrete log of the output of hash_to_point()."
   ]
  },
  {
   "cell_type": "markdown",
   "id": "4d614471-47f1-4169-ae8a-505a9ca40ba8",
   "metadata": {},
   "source": [
    "# Exercises"
   ]
  },
  {
   "cell_type": "markdown",
   "id": "fe818e1c-a4a6-4768-96eb-68b06d77d842",
   "metadata": {},
   "source": [
    "Exercises 1 : What is (-1)G + G ?"
   ]
  },
  {
   "cell_type": "code",
   "execution_count": 17,
   "id": "d72ce326-5b80-4490-90ca-635d541f0e5e",
   "metadata": {},
   "outputs": [],
   "source": [
    "# <your code here>"
   ]
  },
  {
   "cell_type": "markdown",
   "id": "75263aee-cb36-4f55-ad5c-efbafa76cc0e",
   "metadata": {},
   "source": [
    "<br>Exercies 2 : What is (1/x)*(xG) ? is Z == Z + dumb25519.random_point()?"
   ]
  },
  {
   "cell_type": "code",
   "execution_count": 18,
   "id": "8b00afc3-ba9a-4d23-9eee-68f3fcc5b085",
   "metadata": {},
   "outputs": [],
   "source": [
    "# <your code here>"
   ]
  },
  {
   "cell_type": "markdown",
   "id": "2ab1a1c8-4272-4536-91d8-5f0b129bd512",
   "metadata": {},
   "source": [
    "<br>There is another reason we use elliptic curves; the Diffie-Hellman (DH) key exchange<br><br>\n",
    "Exercies 3 : Implement DH key exchange (just use variables). <br> Alice and Bob wants to share a secret scalar only they would know.\n",
    "<br> Using the generator G and dumb25519.hash_to_scalar(), how would they do it?<br>\n",
    " Show that after the key exchange, Alice and Bob has a shared secret."
   ]
  },
  {
   "cell_type": "code",
   "execution_count": 19,
   "id": "b08b1cbc-85b5-42b5-9df7-309956731dd3",
   "metadata": {},
   "outputs": [],
   "source": [
    "# <your code here>\n",
    "\n",
    "# if alice_final == bob_final:\n",
    "    # print(\"DH key exchange successful.\")\n",
    "# else:\n",
    "    # print(\"DH key exchange failed.\")"
   ]
  },
  {
   "cell_type": "markdown",
   "id": "d8244c12-b235-43c8-bf66-430bef1a96d1",
   "metadata": {},
   "source": [
    "<br> Exercise 4 : Monero cryptocurrency uses Pedersen commitment to hide amounts in the blockchain. <br>\n",
    "Implement Pedersen commitment: given a scalar x, it must output a pair (r, rG + xH) where r is\n",
    "a random Scalar. <br> For Monero, r should never be in the blockchain, only the rG + xH is. <br><br>\n",
    "\n",
    "Then demonstrate the homomorphicity of Pedersen commitment: <br> \n",
    "Show that pedersen(x1) + pedersen(x2) = (r1 + r2)G + (x1 + x2)H <br> \n",
    "Where r1 and r2 are the 'r' output of pedersen(x1) and pedersen(x2), respectively."
   ]
  },
  {
   "cell_type": "code",
   "execution_count": 20,
   "id": "ab50cb79-772c-4b26-bd74-19229f648276",
   "metadata": {},
   "outputs": [],
   "source": [
    "H = dumb25519.hash_to_point(\"Pedersen\")\n",
    "\n",
    "def pedersen(amount):\n",
    "    # <your code here>\n",
    "    pass\n",
    "\n",
    "\n",
    "# test for homomorphicity\n",
    "# commit2 = (r1 + r2) * G + (x1 + x2) * H\n",
    "# if commit1 == commit2:\n",
    "    # print(\"You demonstrated that Pedersen commitment is homomorphic!\")\n",
    "# else:\n",
    "    # print(\"Something's wrong :(\")"
   ]
  },
  {
   "cell_type": "markdown",
   "id": "1e3c8dc9-29bf-4885-84c3-a4a80e5d7bed",
   "metadata": {},
   "source": [
    "<br> Exercise 5 : Implement Elgamal point encryption scheme. <br>\n",
    "This is rarely used because the points are rarely encrypted (if ever). <br><br>\n",
    "Here's the scenario: <br>\n",
    "&emsp; Alice must send the point Y to Bob securely. Bob generates a random keypair (x, xG). <br>\n",
    "&emsp; x is the private key, and P = xG is the public key to be shared to Alice. Alice encrypts <br>\n",
    "&emsp; Y using P, and sends the cipher to Bob. Bob then decrypts the cipher using x. <br><br>\n",
    "Just like in DH key exchange, just use variables. <br>\n",
    "Encryption: given a point Y and point P, it must output a pair (rG, Y + rP) where r is a random scalar. <br>\n",
    "Decryption: given a cipher pair (C1, C2) and a scalar x, output Y = C2 - x * C1. <br><br>\n",
    "\n",
    "Then demonstrate the homomorphicity of Elgamal encryption scheme. <br>\n",
    "Using two plaintexts 69000 * H and 420 * H, encrypt both separately, then pairwise add the two ciphers, then decrypt the \"sum\" cipher. <br>\n",
    " What is the decrypted plaintext? "
   ]
  },
  {
   "cell_type": "code",
   "execution_count": 21,
   "id": "77b62319-8276-4f43-9f6b-988b8931b13e",
   "metadata": {},
   "outputs": [],
   "source": [
    "bob_prvkey = dumb25519.random_scalar()\n",
    "bob_pubkey = bob_prvkey * dumb25519.G\n",
    "\n",
    "plain1 = Scalar(69000) * H\n",
    "plain2 = Scalar(420) * H\n",
    "\n",
    "def elgamal_enc(plain: Point, bob_pubkey: Point) -> tuple:\n",
    "    # <your code here>\n",
    "    pass\n",
    "\n",
    "def elgamal_dec(cipher: tuple, bob_prvkey: Scalar) -> Point:\n",
    "    # <your code here>\n",
    "    pass\n",
    "\n",
    "# <your code here>\n",
    "\n",
    "# test for homomorphicity\n",
    "expected_dec = Scalar(69420) * H\n",
    "# if actual_dec == expected_dec:\n",
    "    # print(\"You demonstrated that Elgamal is homomorphic!\")\n",
    "# else:\n",
    "    # print(\"Something's wrong :(\")"
   ]
  },
  {
   "cell_type": "code",
   "execution_count": null,
   "id": "f9a5b56a-7078-4e11-bcac-9e993a23e391",
   "metadata": {},
   "outputs": [],
   "source": []
  }
 ],
 "metadata": {
  "kernelspec": {
   "display_name": "Python 3",
   "language": "python",
   "name": "python3"
  },
  "language_info": {
   "codemirror_mode": {
    "name": "ipython",
    "version": 3
   },
   "file_extension": ".py",
   "mimetype": "text/x-python",
   "name": "python",
   "nbconvert_exporter": "python",
   "pygments_lexer": "ipython3",
   "version": "3.8.8"
  }
 },
 "nbformat": 4,
 "nbformat_minor": 5
}
