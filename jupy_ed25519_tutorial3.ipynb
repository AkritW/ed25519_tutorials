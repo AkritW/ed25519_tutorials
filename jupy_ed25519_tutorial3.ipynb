{
 "cells": [
  {
   "cell_type": "markdown",
   "id": "d8dacebc-8120-48d3-a498-0d1a2ffaef50",
   "metadata": {},
   "source": [
    "# Elliptic curve cryptography (ed25519) Python3 beginner tutorial (part 3)"
   ]
  },
  {
   "cell_type": "markdown",
   "id": "ade8defd-d52b-47b7-b5ce-85977d98d80d",
   "metadata": {},
   "source": [
    "<center> <img src=\"jupy_images/elliptic_curve_pic.png\" width=\"500\" height=\"500\"> </center>"
   ]
  },
  {
   "cell_type": "markdown",
   "id": "af1734c2-f2ff-40ab-aeb0-21d3d1463a21",
   "metadata": {},
   "source": [
    "<p style=\"font-size: 18px\"> Unlike part 1 and part 2 tutorials, this tutorial is not much about the elliptic curve stuff. Instead, this is about proving systems. <br> </p>  <br>\n",
    "<p style=\"font-size: 16px\"> Proving systems involves two characters: <b>Prover and Verifier</b>. <br>\n",
    "Prover has a secret and he must convince the Verifier about facts\n",
    "Regarding the secret, WITHOUT revealing the secret. </p>"
   ]
  },
  {
   "cell_type": "markdown",
   "id": "bdda4323-13a2-4bb3-ac97-2e1845486c49",
   "metadata": {},
   "source": [
    "<br><p style=\"font-size: 16px\"> There are two \"versions\" of Proving systems: <b> Interactive and Non-Interactive.</b> <br> \n",
    "In the interactive version, Verifier is involved *during* the creation of full proof by Prover.<br> \n",
    "In cryptography papers, it is the interactive version that is usually presented. <br> On the other hand, in the non-interactive version,\n",
    "the full proof is created by Prover alone, and Verifier will only verify\n",
    "the full proof. <br> In actual implementations of cryptography, it is the\n",
    "non-interactive version that is usually implemented. <br><br> We'll cover both here. </p>"
   ]
  },
  {
   "cell_type": "code",
   "execution_count": null,
   "id": "29d8fe7b-4d3b-4a2c-8a63-91a1534b3b30",
   "metadata": {},
   "outputs": [],
   "source": [
    "from dumb25519 import Scalar, Point\n",
    "import dumb25519"
   ]
  },
  {
   "cell_type": "markdown",
   "id": "36dbf2e3-44f3-43ce-abd6-b10c611e1a7a",
   "metadata": {},
   "source": [
    "# <br><br><br><br><center> Exercises </center>"
   ]
  },
  {
   "cell_type": "markdown",
   "id": "3a7ef37f-e28b-4ef6-852e-057cc1f257e6",
   "metadata": {},
   "source": [
    " Exercise 1 : Implement Schnorr protocol<br>\n",
    "Read more: https://en.wikipedia.org/wiki/Proof_of_knowledge#Schnorr_protocol<br>\n",
    "Note: the wiki uses \"multiplicative notation\" for the group binary operation<br>\n",
    "(more common overall), but these tutorials (and Monero resources) use<br>\n",
    "\"additive notation\" (more commonly seen when dealing with elliptic curves).<br>\n",
    "<br>\n",
    "Schnorr protocol is among the simplest proving system currently used!<br>\n",
    "<br>\n",
    "Here's the scenario:<br>\n",
    " &emsp; Prover has a secret scalar x. he sends the commitment P = xG to Verifier.<br>\n",
    " &emsp; by the Discrete Logarithm (DL) assumption (see part 1), Verifier will not<br>\n",
    " &emsp; be able to crack the value of x. however the Verifier still wants to be<br>\n",
    " &emsp; convinced that the Prover really knows x. how would the Prover do that?<br>\n",
    "Schnorr protocol allows Prover to do this!<br>"
   ]
  },
  {
   "cell_type": "markdown",
   "id": "380cfd04-8d62-49b3-ad95-f3bb3eb1aa35",
   "metadata": {},
   "source": [
    "<br> <p style=\"font-size: 16px\"><b> Interactive </b></p>"
   ]
  },
  {
   "cell_type": "code",
   "execution_count": null,
   "id": "13c12a02-8be1-45ef-8e92-70cdf00a16cf",
   "metadata": {},
   "outputs": [],
   "source": [
    "class SchnorrProof:\n",
    "    def __init__(self, x: Scalar, P: Point):\n",
    "        # we'll not store the secret x here.\n",
    "        self.P = P\n",
    "        # let r be a random scalar (don't put in self). let self.Q = rG.\n",
    "        # <your code here>\n",
    "\n",
    "        # now Prover would send P and Q to Verifier.\n",
    "        # like in previous tutorial parts, just imagine.\n",
    "\n",
    "        # once Verifier received P and Q, she gives an\n",
    "        # interactive challenge c to Prover.\n",
    "        self.c = dumb25519.random_scalar()\n",
    "\n",
    "        # once Prover received the challenge c, let self.s = r + c * x.\n",
    "        # <your code here>\n",
    "\n",
    "        # now Prover would send s to Verifier. this completes the full proof.\n",
    "\n",
    "    def verify(self) -> bool:   # don't edit this line!\n",
    "        # once Verifier receives the full proof, she can now verify it.\n",
    "        # return s * G == Q + c * P\n",
    "        # <your code here>\n",
    "        pass"
   ]
  },
  {
   "cell_type": "markdown",
   "id": "baadf8f5-07c2-444c-8ed9-6bf301baf28c",
   "metadata": {},
   "source": [
    "<br> <p style=\"font-size: 16px\"><b> Non-interactive </b></p>"
   ]
  },
  {
   "cell_type": "code",
   "execution_count": null,
   "id": "542dcbcb-1045-4573-b848-83233a706078",
   "metadata": {},
   "outputs": [],
   "source": [
    "class NISchnorrProof:\n",
    "    def __init__(self, x: Scalar, P: Point):\n",
    "        # we'll not store the secret x here.\n",
    "        self.P = P\n",
    "        # let r be a random scalar (don't put in self). let self.Q = rG.\n",
    "        # <your code here>\n",
    "\n",
    "        # unlike in interactive version, Prover must generate the challenge\n",
    "        # himself. however, he should not be able to cheat by manipulating the\n",
    "        # challenge. hence, the challenge instead should be the hash of the\n",
    "        # partial proof data. this trick is called \"Fiat-Shamir heuristic\".\n",
    "        c = dumb25519.hash_to_scalar(\"Schnorr Proof\", self.P, self.Q)   # yeah, not in self!\n",
    "\n",
    "        # let self.s = r + c * x.\n",
    "        # <your code here>\n",
    "\n",
    "        # now Prover would send the full proof (P, Q, s) to Verifier.\n",
    "\n",
    "    def verify(self) -> bool:   # don't edit this line!\n",
    "        # once Verifier receives the full proof, she can now verify it.\n",
    "        # return s * G == Q + hash_to_scalar(\"Schnorr Proof\", P, Q) * P\n",
    "        # <your code here>\n",
    "        pass"
   ]
  },
  {
   "cell_type": "code",
   "execution_count": null,
   "id": "eddf30a1-d4e2-45bc-85d5-2ca65bc3bebb",
   "metadata": {},
   "outputs": [],
   "source": [
    "if __name__ == '__main__':\n",
    "    # test 1 (should work)\n",
    "    prvkey = dumb25519.random_scalar()\n",
    "    pubkey = prvkey * dumb25519.G\n",
    "    \n",
    "    # Proof1 = SchnorrProof(prvkey, pubkey)   # also try NISchnorrProof\n",
    "    # if Proof1.verify():\n",
    "        # print(\"Verified!\")\n",
    "    # else:\n",
    "        # print(\"Something's wrong :(\")\n",
    "\n",
    "    \n",
    "    # test 2 (should NOT work)\n",
    "    prvkey = dumb25519.random_scalar()\n",
    "    pubkey = (prvkey + Scalar(1)) * dumb25519.G\n",
    "\n",
    "    # Proof2 = SchnorrProof(prvkey, pubkey)   # also try NISchnorrProof\n",
    "    # if Proof2.verify():\n",
    "        # print(\"Something's wrong :(\")\n",
    "    # else:\n",
    "        # print(\"Prover you're desperate!\")"
   ]
  }
 ],
 "metadata": {
  "kernelspec": {
   "display_name": "Python 3",
   "language": "python",
   "name": "python3"
  },
  "language_info": {
   "codemirror_mode": {
    "name": "ipython",
    "version": 3
   },
   "file_extension": ".py",
   "mimetype": "text/x-python",
   "name": "python",
   "nbconvert_exporter": "python",
   "pygments_lexer": "ipython3",
   "version": "3.8.8"
  }
 },
 "nbformat": 4,
 "nbformat_minor": 5
}
